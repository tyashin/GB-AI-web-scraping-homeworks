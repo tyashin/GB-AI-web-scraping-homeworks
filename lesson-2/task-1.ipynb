{
 "cells": [
  {
   "cell_type": "markdown",
   "id": "5f3b479d-ba22-4d45-a74b-c56f644d5838",
   "metadata": {},
   "source": [
    "## Вариант 1"
   ]
  },
  {
   "cell_type": "markdown",
   "id": "fefc8757-29e1-470c-9579-847a207a89c0",
   "metadata": {},
   "source": [
    "**Необходимо собрать информацию о вакансиях на вводимую должность (используем input или через аргументы) с сайтов Superjob и HH. Приложение должно анализировать несколько страниц сайта (также вводим через input или аргументы). Получившийся список должен содержать в себе минимум:**\n",
    "\n",
    "- Наименование вакансии.\n",
    "- Предлагаемую зарплату (отдельно минимальную и максимальную).\n",
    "- Ссылку на саму вакансию.\n",
    "- Сайт, откуда собрана вакансия. ### По желанию можно добавить ещё параметры вакансии (например, работодателя и расположение). \n",
    "\n",
    "Структура должна быть одинаковая для вакансий с обоих сайтов. Общий результат можно вывести с помощью dataFrame через pandas.\n"
   ]
  },
  {
   "cell_type": "code",
   "execution_count": null,
   "id": "97d9c4c7-235b-4522-92cf-570972b990dd",
   "metadata": {},
   "outputs": [],
   "source": []
  }
 ],
 "metadata": {
  "kernelspec": {
   "display_name": "Python 3.8.5 64-bit ('base': conda)",
   "language": "python",
   "name": "python385jvsc74a57bd08a49bb684e43ab00106799ded31d49934e1f306b7a86a273670123ff298874f2"
  },
  "language_info": {
   "codemirror_mode": {
    "name": "ipython",
    "version": 3
   },
   "file_extension": ".py",
   "mimetype": "text/x-python",
   "name": "python",
   "nbconvert_exporter": "python",
   "pygments_lexer": "ipython3",
   "version": "3.8.10"
  }
 },
 "nbformat": 4,
 "nbformat_minor": 5
}
